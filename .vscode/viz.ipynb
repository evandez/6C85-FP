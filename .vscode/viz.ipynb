{
 "cells": [
  {
   "cell_type": "code",
   "execution_count": null,
   "metadata": {},
   "outputs": [],
   "source": [
    "import plotly.express as px\n",
    "import pandas as pd\n",
    "\n",
    "# Assuming `df` is your DataFrame loaded from the CSV\n",
    "# Filter for institutional investors as an example; repeat for each type as needed\n",
    "institutional_df = df[df['investor_type_purchase'] == 'institutional']\n",
    "\n",
    "# Convert date to datetime and extract year if not already done\n",
    "institutional_df['year'] = pd.to_datetime(institutional_df['date']).dt.year\n",
    "\n",
    "# Aggregate data by year and coordinates\n",
    "agg_data = institutional_df.groupby(['year', 'lat', 'lon']).size().reset_index(name='purchases')\n",
    "\n",
    "# Create the plot\n",
    "fig = px.scatter_geo(agg_data,\n",
    "                     lat='lat',\n",
    "                     lon='lon',\n",
    "                     size='purchases',  # Adjust size of points based on purchase frequency\n",
    "                     animation_frame='year',  # Creates a slider for years\n",
    "                     projection='natural earth',  # Map style\n",
    "                     title='Frequency of Institutional Investor Purchases Year by Year')\n",
    "\n",
    "# Show the figure\n",
    "fig.show()\n"
   ]
  }
 ],
 "metadata": {
  "language_info": {
   "name": "python"
  },
  "orig_nbformat": 4
 },
 "nbformat": 4,
 "nbformat_minor": 2
}
